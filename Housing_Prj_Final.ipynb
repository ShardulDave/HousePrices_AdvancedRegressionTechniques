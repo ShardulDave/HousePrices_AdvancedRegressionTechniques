{
 "cells": [
  {
   "cell_type": "markdown",
   "metadata": {},
   "source": [
    "# Project: House Prices"
   ]
  },
  {
   "cell_type": "markdown",
   "metadata": {},
   "source": [
    "Ararat Darren Ferahyan,  CIN 303498772  \n",
    "Dave Shardul,  CIN 306598622    \n",
    "Wesley Hwang,   CIN 301320557    \n"
   ]
  },
  {
   "cell_type": "code",
   "execution_count": 24,
   "metadata": {},
   "outputs": [],
   "source": [
    "#importing all the necessary libraries...\n",
    "from sklearn.metrics import accuracy_score\n",
    "from sklearn.linear_model import LogisticRegression\n",
    "from sklearn import preprocessing\n",
    "from sklearn.neighbors import KNeighborsClassifier\n",
    "from sklearn.tree import DecisionTreeClassifier\n",
    "from pandas import Series\n",
    "from sklearn.ensemble import RandomForestRegressor\n",
    "from sklearn.datasets import make_regression\n",
    "from sklearn.preprocessing import StandardScaler"
   ]
  },
  {
   "cell_type": "code",
   "execution_count": 3,
   "metadata": {},
   "outputs": [],
   "source": [
    "#importing numpy & pandas...\n",
    "import numpy as np\n",
    "import pandas as pd"
   ]
  },
  {
   "cell_type": "code",
   "execution_count": 4,
   "metadata": {},
   "outputs": [],
   "source": [
    "#loading the train & test .csv files for the housing project...\n",
    "train_df = pd.read_csv('C:/Users/Darren76/Desktop/HousingPrj/train.csv')\n",
    "test_df = pd.read_csv('C:/Users/Darren76/Desktop/HousingPrj/test.csv')"
   ]
  },
  {
   "cell_type": "code",
   "execution_count": 26,
   "metadata": {},
   "outputs": [
    {
     "data": {
      "text/plain": [
       "(1460, 87)"
      ]
     },
     "execution_count": 26,
     "metadata": {},
     "output_type": "execute_result"
    }
   ],
   "source": [
    "train_df.shape"
   ]
  },
  {
   "cell_type": "code",
   "execution_count": 27,
   "metadata": {},
   "outputs": [
    {
     "data": {
      "text/plain": [
       "(1459, 87)"
      ]
     },
     "execution_count": 27,
     "metadata": {},
     "output_type": "execute_result"
    }
   ],
   "source": [
    "test_df.shape"
   ]
  },
  {
   "cell_type": "code",
   "execution_count": 5,
   "metadata": {},
   "outputs": [],
   "source": [
    "#functions to convert categorical data into numerical data...\n",
    "def createValues():\n",
    "    for index, row in train_df.iterrows():\n",
    "        values.append('0')\n",
    "\n",
    "def createSaleCondition_Normal(a):\n",
    "    if a == 'Normal':\n",
    "        return 1\n",
    "    else:\n",
    "        return 0\n",
    "\n",
    "def createSaleCondition_Abnorml(a):\n",
    "    if a == 'Abnorml':\n",
    "        return 1\n",
    "    else:\n",
    "        return 0\n",
    "    \n",
    "def createSaleCondition_Partial(a):\n",
    "    if a == 'Partial':\n",
    "        return 1\n",
    "    else:\n",
    "        return 0\n",
    "\n",
    "def createSaleCondition_AdjLand(a):\n",
    "    if a == 'AdjLand':\n",
    "        return 1\n",
    "    else:\n",
    "        return 0\n",
    "\n",
    "def createSaleCondition_Family(a):\n",
    "    if a == 'Family':\n",
    "        return 1\n",
    "    else:\n",
    "        return 0\n",
    "\n",
    "def createSaleCondition_Aloca(a):\n",
    "    if a == 'Aloca':\n",
    "        return 1\n",
    "    else:\n",
    "        return 0"
   ]
  },
  {
   "cell_type": "code",
   "execution_count": 6,
   "metadata": {},
   "outputs": [],
   "source": [
    "values = []\n",
    "createValues()\n",
    "train_df['SaleCondition_Normal'] = values\n",
    "train_df['SaleCondition_Normal'] = train_df['SaleCondition'].apply(createSaleCondition_Normal)\n",
    "test_df['SaleCondition_Normal'] = test_df['SaleCondition'].apply(createSaleCondition_Normal)\n",
    "\n",
    "values = []\n",
    "createValues()\n",
    "train_df['SaleCondition_Abnorml'] = values\n",
    "train_df['SaleCondition_Abnorml'] = train_df['SaleCondition'].apply(createSaleCondition_Abnorml)\n",
    "test_df['SaleCondition_Abnorml'] = test_df['SaleCondition'].apply(createSaleCondition_Abnorml)\n",
    "\n",
    "values = []\n",
    "createValues()\n",
    "train_df['SaleCondition_Partial'] = values\n",
    "train_df['SaleCondition_Partial'] = train_df['SaleCondition'].apply(createSaleCondition_Partial)\n",
    "test_df['SaleCondition_Partial'] = test_df['SaleCondition'].apply(createSaleCondition_Partial)\n",
    "\n",
    "values = []\n",
    "createValues()\n",
    "train_df['SaleCondition_AdjLand'] = values\n",
    "train_df['SaleCondition_AdjLand'] = train_df['SaleCondition'].apply(createSaleCondition_AdjLand)\n",
    "test_df['SaleCondition_AdjLand'] = test_df['SaleCondition'].apply(createSaleCondition_AdjLand)\n",
    "\n",
    "values = []\n",
    "createValues()\n",
    "train_df['SaleCondition_Family'] = values\n",
    "train_df['SaleCondition_Family'] = train_df['SaleCondition'].apply(createSaleCondition_Family)\n",
    "test_df['SaleCondition_Family'] = test_df['SaleCondition'].apply(createSaleCondition_Family)\n",
    "\n",
    "values = []\n",
    "createValues()\n",
    "train_df['SaleCondition_Aloca'] = values\n",
    "train_df['SaleCondition_Aloca'] = train_df['SaleCondition'].apply(createSaleCondition_Aloca)\n",
    "test_df['SaleCondition_Aloca'] = test_df['SaleCondition'].apply(createSaleCondition_Aloca)\n"
   ]
  },
  {
   "cell_type": "code",
   "execution_count": 7,
   "metadata": {},
   "outputs": [],
   "source": [
    "#list of the features we are going to use...\n",
    "feature_cols = ['LotFrontage', 'LotArea', 'OverallQual', 'OverallCond',\n",
    "               '1stFlrSF', '2ndFlrSF', 'LowQualFinSF', 'GrLivArea', 'BsmtFullBath',\n",
    "               'BsmtHalfBath', 'FullBath', 'HalfBath', 'BedroomAbvGr', 'KitchenAbvGr', 'TotRmsAbvGrd',\n",
    "               'GarageCars', 'GarageArea', 'WoodDeckSF', 'OpenPorchSF', 'EnclosedPorch', '3SsnPorch',\n",
    "               'ScreenPorch', 'PoolArea', 'MiscVal', 'SaleCondition_Normal', 'SaleCondition_Abnorml', 'SaleCondition_Partial',\n",
    "               'SaleCondition_AdjLand', 'SaleCondition_Family', 'SaleCondition_Aloca']"
   ]
  },
  {
   "cell_type": "code",
   "execution_count": 8,
   "metadata": {},
   "outputs": [],
   "source": [
    "#fills NaN data with 0.0...\n",
    "for f in feature_cols:\n",
    "    train_df[f] = train_df[f].fillna(0)\n",
    "    test_df[f] = test_df[f].fillna(0)"
   ]
  },
  {
   "cell_type": "code",
   "execution_count": 10,
   "metadata": {},
   "outputs": [],
   "source": [
    "#creating the future matrix & the label vector for the training set...\n",
    "X_train = train_df[feature_cols]\n",
    "y_train = train_df['SalePrice']"
   ]
  },
  {
   "cell_type": "code",
   "execution_count": 11,
   "metadata": {},
   "outputs": [],
   "source": [
    "#scaling the training data...\n",
    "X_train = preprocessing.scale(X_train)"
   ]
  },
  {
   "cell_type": "code",
   "execution_count": 12,
   "metadata": {},
   "outputs": [],
   "source": [
    "#creating the future matrix for the testing set...\n",
    "X_test = test_df[feature_cols]\n",
    "X_test = preprocessing.scale(X_test)"
   ]
  },
  {
   "cell_type": "code",
   "execution_count": 29,
   "metadata": {},
   "outputs": [
    {
     "data": {
      "text/plain": [
       "(1460, 30)"
      ]
     },
     "execution_count": 29,
     "metadata": {},
     "output_type": "execute_result"
    }
   ],
   "source": [
    "X_train.shape"
   ]
  },
  {
   "cell_type": "code",
   "execution_count": 30,
   "metadata": {},
   "outputs": [
    {
     "data": {
      "text/plain": [
       "(1459, 30)"
      ]
     },
     "execution_count": 30,
     "metadata": {},
     "output_type": "execute_result"
    }
   ],
   "source": [
    "X_test.shape"
   ]
  },
  {
   "cell_type": "code",
   "execution_count": 13,
   "metadata": {},
   "outputs": [
    {
     "data": {
      "text/plain": [
       "LogisticRegression(C=1.0, class_weight=None, dual=False, fit_intercept=True,\n",
       "          intercept_scaling=1, max_iter=100, multi_class='ovr', n_jobs=1,\n",
       "          penalty='l2', random_state=None, solver='liblinear', tol=0.0001,\n",
       "          verbose=0, warm_start=False)"
      ]
     },
     "execution_count": 13,
     "metadata": {},
     "output_type": "execute_result"
    }
   ],
   "source": [
    "#training the data using Logistic Regression...\n",
    "my_logreg = LogisticRegression()\n",
    "my_logreg.fit(X_train, y_train)"
   ]
  },
  {
   "cell_type": "code",
   "execution_count": 14,
   "metadata": {},
   "outputs": [],
   "source": [
    "#making prediction...\n",
    "y_predict_lr = my_logreg.predict(X_test)"
   ]
  },
  {
   "cell_type": "code",
   "execution_count": 15,
   "metadata": {},
   "outputs": [],
   "source": [
    "#getting the accuracy score...\n",
    "test_df['SalePrice'] = y_predict_lr\n",
    "y_test = test_df['SalePrice']\n",
    "score_lr = accuracy_score(y_test, y_predict_lr)"
   ]
  },
  {
   "cell_type": "code",
   "execution_count": 16,
   "metadata": {},
   "outputs": [
    {
     "data": {
      "text/plain": [
       "DecisionTreeClassifier(class_weight=None, criterion='gini', max_depth=None,\n",
       "            max_features=None, max_leaf_nodes=None,\n",
       "            min_impurity_decrease=0.0, min_impurity_split=None,\n",
       "            min_samples_leaf=1, min_samples_split=2,\n",
       "            min_weight_fraction_leaf=0.0, presort=False, random_state=3,\n",
       "            splitter='best')"
      ]
     },
     "execution_count": 16,
     "metadata": {},
     "output_type": "execute_result"
    }
   ],
   "source": [
    "#training the data using Decision Tree Classifier...\n",
    "my_decisiontree = DecisionTreeClassifier(random_state = 3)\n",
    "my_decisiontree.fit(X_train, y_train)"
   ]
  },
  {
   "cell_type": "code",
   "execution_count": 17,
   "metadata": {},
   "outputs": [],
   "source": [
    "#making prediction and getting the accuracy score...\n",
    "y_predict_dt = my_decisiontree.predict(X_test)\n",
    "score_dt = accuracy_score(y_test, y_predict_dt)"
   ]
  },
  {
   "cell_type": "code",
   "execution_count": 18,
   "metadata": {},
   "outputs": [
    {
     "data": {
      "text/plain": [
       "KNeighborsClassifier(algorithm='auto', leaf_size=30, metric='minkowski',\n",
       "           metric_params=None, n_jobs=1, n_neighbors=3, p=2,\n",
       "           weights='uniform')"
      ]
     },
     "execution_count": 18,
     "metadata": {},
     "output_type": "execute_result"
    }
   ],
   "source": [
    "#training the data using KNeighbor Classifier...\n",
    "k = 3\n",
    "knn = KNeighborsClassifier(n_neighbors=k)\n",
    "knn.fit(X_train, y_train)"
   ]
  },
  {
   "cell_type": "code",
   "execution_count": 19,
   "metadata": {},
   "outputs": [],
   "source": [
    "#making prediction and getting the accuracy score...\n",
    "y_predict = knn.predict(X_test)\n",
    "accuracy = accuracy_score(y_test, y_predict)"
   ]
  },
  {
   "cell_type": "code",
   "execution_count": 20,
   "metadata": {},
   "outputs": [
    {
     "data": {
      "text/plain": [
       "RandomForestRegressor(bootstrap=True, criterion='mse', max_depth=2,\n",
       "           max_features='auto', max_leaf_nodes=None,\n",
       "           min_impurity_decrease=0.0, min_impurity_split=None,\n",
       "           min_samples_leaf=1, min_samples_split=2,\n",
       "           min_weight_fraction_leaf=0.0, n_estimators=100, n_jobs=1,\n",
       "           oob_score=False, random_state=0, verbose=0, warm_start=False)"
      ]
     },
     "execution_count": 20,
     "metadata": {},
     "output_type": "execute_result"
    }
   ],
   "source": [
    "#training the data using Random Forest Regressor...\n",
    "regr = RandomForestRegressor(max_depth=2, random_state=0, n_estimators=100)\n",
    "regr.fit(X_train, y_train)"
   ]
  },
  {
   "cell_type": "code",
   "execution_count": 21,
   "metadata": {},
   "outputs": [],
   "source": [
    "from sklearn.metrics import explained_variance_score"
   ]
  },
  {
   "cell_type": "code",
   "execution_count": 22,
   "metadata": {},
   "outputs": [],
   "source": [
    "#making prediction and getting the accuracy score...\n",
    "predict = regr.predict(X_test)\n",
    "score = explained_variance_score(y_test, predict) "
   ]
  },
  {
   "cell_type": "code",
   "execution_count": 23,
   "metadata": {},
   "outputs": [
    {
     "name": "stdout",
     "output_type": "stream",
     "text": [
      "accuracy using Logistic Regression = 1.0\n",
      "accuracy using Decision Tree = 0.05414667580534613\n",
      "accuracy using KNN Classifier = 0.08773132282385196\n",
      "accuracy using Random Forest Regression = 0.40399259640650076\n"
     ]
    }
   ],
   "source": [
    "print(\"accuracy using Logistic Regression =\", score_lr)\n",
    "print(\"accuracy using Decision Tree =\", score_dt)\n",
    "print(\"accuracy using KNN Classifier =\", accuracy)\n",
    "print(\"accuracy using Random Forest Regression =\", score)"
   ]
  },
  {
   "cell_type": "code",
   "execution_count": null,
   "metadata": {},
   "outputs": [],
   "source": []
  }
 ],
 "metadata": {
  "kernelspec": {
   "display_name": "Python 3",
   "language": "python",
   "name": "python3"
  },
  "language_info": {
   "codemirror_mode": {
    "name": "ipython",
    "version": 3
   },
   "file_extension": ".py",
   "mimetype": "text/x-python",
   "name": "python",
   "nbconvert_exporter": "python",
   "pygments_lexer": "ipython3",
   "version": "3.6.5"
  }
 },
 "nbformat": 4,
 "nbformat_minor": 2
}
